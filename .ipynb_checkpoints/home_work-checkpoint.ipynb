{
 "cells": [
  {
   "cell_type": "code",
   "execution_count": 21,
   "id": "8b10bc22",
   "metadata": {},
   "outputs": [
    {
     "name": "stdout",
     "output_type": "stream",
     "text": [
      "[1. 1. 1.]\n"
     ]
    }
   ],
   "source": [
    "#     NumPy Array Exercises\n",
    "\n",
    "#  How to create an empty and a full NumPy array?\n",
    "\n",
    "# python program to create\n",
    "# Empty and Full Numpy arrays\n",
    "\n",
    "import numpy as np\n",
    "\n",
    "\n",
    "# Create an empty array\n",
    "empa = np.empty((3, 4), dtype=int)\n",
    "# print(\"Empty Array\")\n",
    "# print(empa)\n",
    "\n",
    "# Create a full array\n",
    "flla = np.full([3, 3], 55, dtype=int)\n",
    "# print(\"\\n Full Array\")\n",
    "# print(flla)\n",
    "\n",
    "# Create a numpy array filled with zeros\n",
    "\n",
    "\n",
    "# Python Program to create array with all zeros\n",
    "import numpy as geek \n",
    "  \n",
    "a=np.zeros([5,3])\n",
    "# print(a)\n",
    "\n",
    "# split non numeric values in array in numpy \n",
    "name= 'Masters in Data Science'\n",
    "s= np.fromiter(name,dtype='U2')\n",
    "# print(s)\n",
    "\n",
    "linespace= np.linspace(3,12,3)\n",
    "# print(linespace)\n",
    "\n",
    "arr = np.ones(3)\n",
    "print(arr)"
   ]
  },
  {
   "cell_type": "code",
   "execution_count": 22,
   "id": "20609eeb",
   "metadata": {},
   "outputs": [
    {
     "name": "stdout",
     "output_type": "stream",
     "text": [
      "[[1. 0. 0.]\n",
      " [0. 1. 0.]\n",
      " [0. 0. 1.]]\n"
     ]
    }
   ],
   "source": [
    "## We can create 2 dimentional arrays using 3 methods\n",
    "# 1. np.diag(), 2. np.eye()\n",
    "\n",
    "# np.eye is called numpy identity method which it returns the elements\n",
    "# where i=j (row index and column index are equal)\n",
    "# are 1 and the rest are 0, as such:\n",
    "\n",
    "# print(np.eye(3))\n",
    "\n",
    "\n",
    "print(np.diag())\n",
    "\n"
   ]
  },
  {
   "cell_type": "code",
   "execution_count": 34,
   "id": "feea10a8",
   "metadata": {},
   "outputs": [
    {
     "name": "stdout",
     "output_type": "stream",
     "text": [
      "Maximum value 6600\n",
      "Min value 1\n"
     ]
    }
   ],
   "source": [
    "#3 Finding maximum element from an matrix\n",
    "\n",
    "#  we can use max() function which takes a array or matrix as argument\n",
    "\n",
    "\n",
    "arr = np.matrix([[1,2,3,33],\n",
    "                 [4,5,6,66],\n",
    "                 [7,8,9,90]])\n",
    "\n",
    "max_value = np.max(arr)\n",
    "print('Maximum value',max_value)\n",
    "min_value= np.min(arr)\n",
    "print('Min value', min_value)\n"
   ]
  },
  {
   "cell_type": "code",
   "execution_count": null,
   "id": "e6b6501d",
   "metadata": {},
   "outputs": [],
   "source": []
  },
  {
   "cell_type": "code",
   "execution_count": 36,
   "id": "d37c7c19",
   "metadata": {},
   "outputs": [
    {
     "name": "stdout",
     "output_type": "stream",
     "text": [
      "shape of array (3, 4)\n"
     ]
    }
   ],
   "source": [
    "# Find the number of rows and columns of a given matrix using NumPy\n",
    "\n",
    "# we can find the rows and column number using shape function\n",
    "# In the NumPy with the help of shape() function, we can find the number of rows and columns. In this function, \n",
    "# we pass a matrix and it will return row and column number of the matrix.\n",
    "\n",
    "shape_of_arr= arr.shape\n",
    "print('shape of array',shape_of_arr)"
   ]
  },
  {
   "cell_type": "code",
   "execution_count": 43,
   "id": "28b77437",
   "metadata": {},
   "outputs": [
    {
     "name": "stdout",
     "output_type": "stream",
     "text": [
      "we can add two matrix: \n",
      "[[1, 2], [3, 4], [4, 5], [6, 7]]\n",
      "we can subtract two matrix: \n"
     ]
    }
   ],
   "source": [
    "#  Adding and Subtracting Matrices in Python\n",
    "\n",
    "# Suppose we have two matrices A and B.\n",
    "A = [[1,2],[3,4]]\n",
    "B = [[4,5],[6,7]]\n",
    "\n",
    "# then we get\n",
    "# A+B = [[5,7],[9,11]]\n",
    "# A-B = [[-3,-3],[-3,-3]]\n",
    "print('we can add two matrix: ')\n",
    "print(A+B)\n",
    "print('we can subtract two matrix: ')\n",
    "# print(A-B)"
   ]
  },
  {
   "cell_type": "code",
   "execution_count": 21,
   "id": "ba95e191",
   "metadata": {},
   "outputs": [
    {
     "name": "stdout",
     "output_type": "stream",
     "text": [
      "Printing elements of first matrix\n",
      "Printing elements of second matrix\n",
      "Addition of two matrix\n",
      "SUbtract of two matrix\n",
      "Before adding: [[1 2]\n",
      " [3 4]]\n",
      "[-0.37228132  5.37228132]\n"
     ]
    }
   ],
   "source": [
    "# we can add and subtract element in a mtrix \n",
    "# importing numpy as np\n",
    "import numpy as np\n",
    "\n",
    "\n",
    "# creating first matrix\n",
    "A = np.array([[1, 2], [3, 4]])\n",
    "\n",
    "# creating second matrix\n",
    "B = np.array([[4, 5], [6, 7]])\n",
    "\n",
    "print(\"Printing elements of first matrix\")\n",
    "# print(A)\n",
    "print(\"Printing elements of second matrix\")\n",
    "# print(B)\n",
    "\n",
    "# adding two matrix\n",
    "print(\"Addition of two matrix\")\n",
    "# print(np.add(A, B))\n",
    "\n",
    "print(\"SUbtract of two matrix\")\n",
    "\n",
    "# print(np.subtract(A,B))\n",
    "\n",
    "\n",
    "# Matrix Multiplication in NumPy\n",
    "# print(np.dot(A,B))\n",
    "\n",
    "#   multiplication using @ in numpy \n",
    "\n",
    "# print(A@B)\n",
    "\n",
    "\n",
    " #  Ways to add row/columns in numpy array\n",
    "    \n",
    "\n",
    "#  way to add row and columns using numpy\n",
    "#  add columns-\n",
    "#  1. np.append()\n",
    "#  2. np.concatenate()\n",
    "#  3. np.insert()\n",
    "#  4. np.hstack()\n",
    "#  5. np.column_stack()\n",
    " \n",
    "#  adding rows method-\n",
    "#  1. np.r_\n",
    "#  2. np.insert()\n",
    "#  3. np.append()\n",
    "#  4. np.vstack()\n",
    " \n",
    "# print('Before adding:',A)\n",
    "column_need_be_added=np.array([[100],[200]])\n",
    "new_arr=np.append(A,column_need_be_added,axis=1)\n",
    "# print('new array:')\n",
    "# print(new_arr)\n",
    "\n",
    "# adding rows \n",
    "\n",
    "row_need_to_add= np.array([6,5])\n",
    "new_matrix=np.r_[A,[row_need_to_add]]\n",
    "# print(new_matrix)\n",
    "\n",
    "\n",
    "# Finding the eigen values from a matrix \n",
    "\n",
    "eg= np.linalg.eigvals(A)\n",
    "\n",
    "# print(eg)\n",
    "\n"
   ]
  },
  {
   "cell_type": "code",
   "execution_count": 5,
   "id": "8177fbd8",
   "metadata": {},
   "outputs": [
    {
     "name": "stdout",
     "output_type": "stream",
     "text": [
      "1330.0000000000002\n"
     ]
    }
   ],
   "source": [
    "import numpy as np\n",
    "\n",
    "# how to count the frequency of unique values in numpy array\n",
    "number_list = np.array([1, 1, 2, 3, 4, 4, 1])\n",
    "(unique, counts) = np.unique(number_list, return_counts=True)\n",
    "# print(unique,  counts)\n",
    "unique_count=len(np.unique(number_list))\n",
    "# print(unique_count)\n",
    "\n",
    "#  How to Calculate the determinant of a matrix using NumPy?\n",
    "# creating a 2X2 Numpy matrix\n",
    "n_array = np.array([[50, 29], [30, 44]])\n",
    "det= np.linalg.det(n_array)\n",
    "# print(det)\n",
    "\n",
    "# Convert covariance matrix to correlation matrix using Python\n"
   ]
  }
 ],
 "metadata": {
  "kernelspec": {
   "display_name": "Python 3 (ipykernel)",
   "language": "python",
   "name": "python3"
  },
  "language_info": {
   "codemirror_mode": {
    "name": "ipython",
    "version": 3
   },
   "file_extension": ".py",
   "mimetype": "text/x-python",
   "name": "python",
   "nbconvert_exporter": "python",
   "pygments_lexer": "ipython3",
   "version": "3.10.6"
  }
 },
 "nbformat": 4,
 "nbformat_minor": 5
}
